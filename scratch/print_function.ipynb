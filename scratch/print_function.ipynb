{
 "cells": [
  {
   "cell_type": "code",
   "execution_count": 1,
   "metadata": {
    "collapsed": true
   },
   "outputs": [],
   "source": [
    "class BColours:\n",
    "    BLUE = '\\033[94m'\n",
    "    CYAN = '\\033[36m'\n",
    "    GREEN = '\\033[32m'\n",
    "    MAGENTA = '\\033[35m'\n",
    "    RED = '\\033[31m'\n",
    "    ENDC = '\\033[0m'"
   ]
  },
  {
   "cell_type": "code",
   "execution_count": 2,
   "metadata": {
    "collapsed": true
   },
   "outputs": [],
   "source": [
    "from bayes_opt import BayesianOptimization\n",
    "import numpy as np\n",
    "from datetime import datetime"
   ]
  },
  {
   "cell_type": "code",
   "execution_count": 10,
   "metadata": {
    "collapsed": true
   },
   "outputs": [],
   "source": [
    "def target(x, a_very_long_name):\n",
    "    y = a_very_long_name\n",
    "    a = np.exp(-( (x - 2)**2/0.7 + (y - 4)**2/1.2) + (x - 2)*(y - 4)/2 )\n",
    "    b = np.exp(-( (x - 4)**2/3 + (y - 2)**2/2.) )\n",
    "    c = np.exp(-( (x - 4)**2/0.5 + (y - 4)**2/0.5) + (x - 4)*(y - 4)/0.5 )\n",
    "    return 3*(2*a + b - c) - 1"
   ]
  },
  {
   "cell_type": "code",
   "execution_count": 64,
   "metadata": {
    "collapsed": false
   },
   "outputs": [],
   "source": [
    "class PrintLog(object):\n",
    "\n",
    "    def __init__(self, params):\n",
    "\n",
    "        self.ymax = None\n",
    "        self.xmax = None\n",
    "        self.params = params\n",
    "        self.ite = 1\n",
    "\n",
    "        self.start_time = datetime.now()\n",
    "        self.last_round = datetime.now()\n",
    "\n",
    "        # sizes of parameters name and all\n",
    "        self.sizes = [max(len(ps), 6) for ps in params]\n",
    "\n",
    "        # Sorted indexes to access parameters\n",
    "        self.sorti = sorted(range(len(self.params)),\n",
    "                            key=self.params.__getitem__)\n",
    "\n",
    "    def print_header(self, initialization=True):\n",
    "\n",
    "        if initialization:\n",
    "            print(\"{}Initialization{}\".format(BColours.RED, BColours.ENDC))\n",
    "        else:\n",
    "            print(\"{}Bayesian Optimization{}\".format(BColours.RED, BColours.ENDC))\n",
    "\n",
    "        print(\"-\" * (28 + sum([s + 5 for s in self.sizes])) )\n",
    "\n",
    "        print(\"{0:>{1}}\".format(\"Step\", 5), end=\" | \")\n",
    "        print(\"{0:>{1}}\".format(\"Time\", 6), end=\" | \")\n",
    "        print(\"{0:>{1}}\".format(\"Value\", 9), end=\" | \")\n",
    "\n",
    "        for index in self.sorti:\n",
    "            print(\"{0:>{1}}\".format(self.params[index], self.sizes[index] + 2), end=\" | \")\n",
    "        print('')\n",
    "\n",
    "    def print_step(self, x, y):\n",
    "\n",
    "        print(\"{:>5d}\".format(self.ite), end=\" | \")\n",
    "\n",
    "        m, s = divmod((datetime.now() - self.last_round).total_seconds(), 60)\n",
    "        print(\"{:>02d}m{:>02d}s\".format(int(m), int(s)), end=\" | \")\n",
    "\n",
    "        if self.ymax is None or self.ymax < y:\n",
    "            self.ymax = y\n",
    "            self.xmax = x\n",
    "            print(\"{0}{2: >9.5f}{1}\".format(BColours.MAGENTA, BColours.ENDC, y), end=\" | \")\n",
    "\n",
    "            for index in self.sorti:\n",
    "                print(\"{0}{2: >{3}.{4}f}{1}\".format(BColours.GREEN, BColours.ENDC,\n",
    "                                                    x[index], \n",
    "                                                    self.sizes[index] + 2,\n",
    "                                                    min(self.sizes[index] - 3, 6 - 3)),\n",
    "                      end=\" | \")\n",
    "        else:\n",
    "            print(\"{: >9.5f}\".format(y*10), end=\" | \")\n",
    "            for index in self.sorti:\n",
    "                print(\"{0: >{1}.{2}f}\".format(x[index], \n",
    "                                              self.sizes[index] + 2,\n",
    "                                              min(self.sizes[index] - 3, 6 - 3)),\n",
    "                      end=\" | \")\n",
    "\n",
    "        print()\n",
    "        \n",
    "        self.last_round = datetime.now()\n",
    "        self.ite += 1\n",
    "\n",
    "    def print_summary(self):\n",
    "        pass\n",
    "    \n",
    "bo = BayesianOptimization(target, {'x': (-6, 6), 'a_very_long_name': (-6, 6)})\n",
    "bo.plog = PrintLog(bo.keys)"
   ]
  },
  {
   "cell_type": "code",
   "execution_count": 65,
   "metadata": {
    "collapsed": false
   },
   "outputs": [
    {
     "name": "stdout",
     "output_type": "stream",
     "text": [
      "\u001b[31mInitialization\u001b[0m\n",
      "------------------------------------------------------------\n",
      " Step |   Time |     Value |   a_very_long_name |        x | \n",
      "    1 | 00m00s | \u001b[35m -0.71120\u001b[0m | \u001b[32m             2.000\u001b[0m | \u001b[32m   1.000\u001b[0m | \n",
      "    2 | 00m00s | \u001b[35m  0.27682\u001b[0m | \u001b[32m             3.000\u001b[0m | \u001b[32m   3.000\u001b[0m | \n",
      "    3 | 00m00s |  -9.99983 |             -2.722 |    5.666 | \n",
      "    4 | 00m00s |  -7.78257 |              0.450 |    1.947 | \n",
      "    5 | 00m00s | \u001b[35m  1.40357\u001b[0m | \u001b[32m             2.807\u001b[0m | \u001b[32m   1.984\u001b[0m | \n",
      "\u001b[31mBayesian Optimization\u001b[0m\n",
      "------------------------------------------------------------\n",
      " Step |   Time |     Value |   a_very_long_name |        x | \n",
      "    6 | 00m08s | -10.00000 |              6.000 |   -6.000 | \n",
      "    7 | 00m04s | -10.00000 |             -6.000 |   -4.647 | \n"
     ]
    }
   ],
   "source": [
    "gp_params = {'corr': 'absolute_exponential', 'nugget': 1e-15}\n",
    "\n",
    "bo.explore({'x': [1, 3], 'a_very_long_name': [2, 3]})\n",
    "# bo.initialize({-2: {'x': 1, 'y': 0}, -1.251: {'x': 1, 'y': 1.5}})\n",
    "bo.maximize(init_points=3, n_iter=2, acq='ucb', kappa=3.29, **gp_params)"
   ]
  },
  {
   "cell_type": "code",
   "execution_count": 21,
   "metadata": {
    "collapsed": false
   },
   "outputs": [
    {
     "data": {
      "text/plain": [
       "'25963.04'"
      ]
     },
     "execution_count": 21,
     "metadata": {},
     "output_type": "execute_result"
    }
   ],
   "source": [
    "'{:3.2f}'.format(25963.03764)"
   ]
  },
  {
   "cell_type": "code",
   "execution_count": null,
   "metadata": {
    "collapsed": true
   },
   "outputs": [],
   "source": []
  }
 ],
 "metadata": {
  "kernelspec": {
   "display_name": "Python 3",
   "language": "python",
   "name": "python3"
  },
  "language_info": {
   "codemirror_mode": {
    "name": "ipython",
    "version": 3
   },
   "file_extension": ".py",
   "mimetype": "text/x-python",
   "name": "python",
   "nbconvert_exporter": "python",
   "pygments_lexer": "ipython3",
   "version": "3.5.1"
  }
 },
 "nbformat": 4,
 "nbformat_minor": 0
}
